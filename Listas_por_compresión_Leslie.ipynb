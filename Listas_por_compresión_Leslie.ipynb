{
  "nbformat": 4,
  "nbformat_minor": 0,
  "metadata": {
    "colab": {
      "provenance": [],
      "authorship_tag": "ABX9TyM91CQa036fe1XYh5Oq5cI7",
      "include_colab_link": true
    },
    "kernelspec": {
      "name": "python3",
      "display_name": "Python 3"
    },
    "language_info": {
      "name": "python"
    }
  },
  "cells": [
    {
      "cell_type": "markdown",
      "metadata": {
        "id": "view-in-github",
        "colab_type": "text"
      },
      "source": [
        "<a href=\"https://colab.research.google.com/github/Lsilva483/Progcom-corte-2/blob/main/Listas_por_compresi%C3%B3n_Leslie.ipynb\" target=\"_parent\"><img src=\"https://colab.research.google.com/assets/colab-badge.svg\" alt=\"Open In Colab\"/></a>"
      ]
    },
    {
      "cell_type": "markdown",
      "source": [
        "Listas por compresión:\n",
        "En listas []\n",
        "En diccionarios {}\n",
        "Ventajas: Más eficiente en tiempo y espacio que los bucles, requiere menos lineas de codigo.\n"
      ],
      "metadata": {
        "id": "3rptSr6V-pIw"
      }
    },
    {
      "cell_type": "markdown",
      "source": [
        "Ejercicio: El usuario ingresa las palabras que desee y el programa le muestra cual de las palabras que ingresó son palíndromo"
      ],
      "metadata": {
        "id": "rFKotDiFsuUn"
      }
    },
    {
      "cell_type": "markdown",
      "source": [
        "##Mi ejercicio"
      ],
      "metadata": {
        "id": "q_tmHW3T8hmu"
      }
    },
    {
      "cell_type": "code",
      "source": [
        "c=int(input(\"Digita la cantidad de elementos que deseas ingresar: \"))\n",
        "a=0\n",
        "lista1=[]\n",
        "while a < c:\n",
        "  a=a+1\n",
        "  word=str(input(\"Escribe aquí: \")).lower()\n",
        "  lista1.append(word)\n",
        "print(lista1)\n",
        "lista2=[x for x in lista1 if x==x[::-1]]\n",
        "print(\"Palabras Palíndromo\",lista2)\n"
      ],
      "metadata": {
        "colab": {
          "base_uri": "https://localhost:8080/"
        },
        "id": "2L2whDyDwPHr",
        "outputId": "20da15ce-bccd-47d9-ef28-5d66e02898bb"
      },
      "execution_count": 13,
      "outputs": [
        {
          "output_type": "stream",
          "name": "stdout",
          "text": [
            "Digita la cantidad de elementos que deseas ingresar: 3\n",
            "Escribe aquí: manolo\n",
            "Escribe aquí: ana\n",
            "Escribe aquí: perro\n",
            "['manolo', 'ana', 'perro']\n",
            "['ana']\n"
          ]
        }
      ]
    },
    {
      "cell_type": "markdown",
      "source": [
        "Ejercicio 1"
      ],
      "metadata": {
        "id": "jVSV1kdC_R8u"
      }
    },
    {
      "cell_type": "code",
      "source": [
        "num=[(n*2) for n in range (1,9)] #primero se pone lo que quiero imprimir\n",
        "print(num)"
      ],
      "metadata": {
        "colab": {
          "base_uri": "https://localhost:8080/"
        },
        "id": "UNhM3VvTxO3P",
        "outputId": "45c07fd2-da0c-4384-9512-6bfb83682b47"
      },
      "execution_count": 14,
      "outputs": [
        {
          "output_type": "stream",
          "name": "stdout",
          "text": [
            "[2, 4, 6, 8, 10, 12, 14, 16]\n"
          ]
        }
      ]
    },
    {
      "cell_type": "markdown",
      "source": [
        "Ejercicio 2"
      ],
      "metadata": {
        "id": "3oIF8BPkApa0"
      }
    },
    {
      "cell_type": "code",
      "source": [
        "cadenas=[\"*\"* n for n in range(1,6)]\n",
        "print(cadenas)"
      ],
      "metadata": {
        "colab": {
          "base_uri": "https://localhost:8080/"
        },
        "id": "BsmCZAiP_RV3",
        "outputId": "1d748e05-5b6b-42b1-ff14-46305e871ce4"
      },
      "execution_count": 15,
      "outputs": [
        {
          "output_type": "stream",
          "name": "stdout",
          "text": [
            "['*', '**', '***', '****', '*****']\n"
          ]
        }
      ]
    },
    {
      "cell_type": "markdown",
      "source": [
        "Ejercicio 3"
      ],
      "metadata": {
        "id": "3SXeqTb_CeYb"
      }
    },
    {
      "cell_type": "code",
      "source": [
        "num=[2,5,6,9,10]\n",
        "cuadrados=[(n**2)for n in num]\n",
        "print(cuadrados)"
      ],
      "metadata": {
        "colab": {
          "base_uri": "https://localhost:8080/"
        },
        "id": "L0R6KJawAv_8",
        "outputId": "f521acb4-ff3e-4cde-c52b-fdc00dcf32a4"
      },
      "execution_count": 21,
      "outputs": [
        {
          "output_type": "stream",
          "name": "stdout",
          "text": [
            "[4, 25, 36, 81, 100]\n"
          ]
        }
      ]
    },
    {
      "cell_type": "markdown",
      "source": [
        "Ejercicio 4"
      ],
      "metadata": {
        "id": "sSXereJTC8jq"
      }
    },
    {
      "cell_type": "code",
      "source": [
        "x=input(\"Ingrese la palabra que desee: \")\n",
        "lista=[n for n in x]\n",
        "print(lista)\n"
      ],
      "metadata": {
        "colab": {
          "base_uri": "https://localhost:8080/"
        },
        "id": "sD5DKfMaA_gc",
        "outputId": "c1cd81ff-f071-4f99-b95f-48c7be5b96be"
      },
      "execution_count": 22,
      "outputs": [
        {
          "output_type": "stream",
          "name": "stdout",
          "text": [
            "Ingrese la palabra que desee: Samuel\n",
            "['S', 'a', 'm', 'u', 'e', 'l']\n"
          ]
        }
      ]
    },
    {
      "cell_type": "markdown",
      "source": [
        "Ejercicio 5\n"
      ],
      "metadata": {
        "id": "tvKTR8NnDxGu"
      }
    },
    {
      "cell_type": "code",
      "source": [
        "lista1=[2,7,10,9,8]\n",
        "lista2=[elementos**2 for elementos in lista1 if elementos%2==0]\n",
        "print(lista2)\n",
        "\n"
      ],
      "metadata": {
        "colab": {
          "base_uri": "https://localhost:8080/"
        },
        "id": "rlchwcGDDE6x",
        "outputId": "aaeb4d88-38d0-4259-e985-a129ad41e04b"
      },
      "execution_count": 25,
      "outputs": [
        {
          "output_type": "stream",
          "name": "stdout",
          "text": [
            "[4, 100, 64]\n"
          ]
        }
      ]
    },
    {
      "cell_type": "markdown",
      "source": [
        "Ejercicio 6\n"
      ],
      "metadata": {
        "id": "ssee4Cz_D0Zu"
      }
    },
    {
      "cell_type": "code",
      "source": [
        "import random\n",
        "capitan=[random.randrange(1,30)for i in range(9)] #Rango donde se va generar la lista aleatoria\n",
        "print(\"Imprimir números aleatorios de la lista: \",str(capitan))\n"
      ],
      "metadata": {
        "colab": {
          "base_uri": "https://localhost:8080/"
        },
        "id": "0qwYVB2ND1wu",
        "outputId": "0d2638fc-8065-4a21-fcf9-d1a17dc15c12"
      },
      "execution_count": 26,
      "outputs": [
        {
          "output_type": "stream",
          "name": "stdout",
          "text": [
            "Imprimir números aleatorios de la lista:  [2, 28, 6, 17, 1, 24, 6, 25, 14]\n"
          ]
        }
      ]
    },
    {
      "cell_type": "markdown",
      "source": [
        "Ejercicio 7"
      ],
      "metadata": {
        "id": "K3vqY2YpE_Fp"
      }
    },
    {
      "cell_type": "code",
      "source": [
        "precios=[]\n",
        "print(\"Ingrese los números de los que quieres hacer un descuento\")\n",
        "det=True\n",
        "while det:\n",
        "  num=int(input(\" Si no desea agregar más números digite 0\"))\n",
        "  precios.append(num)\n",
        "  det=False if num == 0 else num>0\n",
        "des=float(input(print(\"Ingrese el descuento sin el %\")))\n",
        "presdes=[precio*des/100 for precio in precios]\n",
        "presdes.pop(-1) #pop para no tomar un valor determinado de la lista\n",
        "print(\"Este es el valor que le debes restar a cada número\", presdes)"
      ],
      "metadata": {
        "colab": {
          "base_uri": "https://localhost:8080/"
        },
        "id": "l-dxM7EJFA_J",
        "outputId": "e9b3ec76-14fe-4daa-8c6c-bd6831b19927"
      },
      "execution_count": 27,
      "outputs": [
        {
          "output_type": "stream",
          "name": "stdout",
          "text": [
            "Ingrese los números de los que quieres hacer un descuento\n",
            " Si no desea agregar más números digite 0100\n",
            " Si no desea agregar más números digite 0200\n",
            " Si no desea agregar más números digite 0300\n",
            " Si no desea agregar más números digite 00\n",
            "Ingrese el descuento sin el %\n",
            "None20\n",
            "Este es el valor que le debes restar a cada número [20.0, 40.0, 60.0]\n"
          ]
        }
      ]
    },
    {
      "cell_type": "markdown",
      "source": [
        "Ejercicio 8"
      ],
      "metadata": {
        "id": "eiGrq-eoHgc7"
      }
    },
    {
      "cell_type": "code",
      "source": [
        "num=[]\n",
        "for i in range (6):\n",
        "  num.append(int(input(\"Introduce el número ganador\")))\n",
        "num.sort()\n",
        "print(\"Los números ganadores del baloto son:\" + str(num))\n"
      ],
      "metadata": {
        "colab": {
          "base_uri": "https://localhost:8080/"
        },
        "id": "9EHv37wXHiE6",
        "outputId": "42d812a5-8d22-485e-dfdb-baabccf10dbd"
      },
      "execution_count": 28,
      "outputs": [
        {
          "output_type": "stream",
          "name": "stdout",
          "text": [
            "Introduce el número ganador4\n",
            "Introduce el número ganador2\n",
            "Introduce el número ganador82\n",
            "Introduce el número ganador23\n",
            "Introduce el número ganador52\n",
            "Introduce el número ganador46\n",
            "Los números ganadores del baloto son:[2, 4, 23, 46, 52, 82]\n"
          ]
        }
      ]
    }
  ]
}