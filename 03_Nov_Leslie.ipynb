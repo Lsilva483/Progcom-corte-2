{
  "nbformat": 4,
  "nbformat_minor": 0,
  "metadata": {
    "colab": {
      "provenance": [],
      "authorship_tag": "ABX9TyOUnYONJ1OpdizrkWqB/+KO",
      "include_colab_link": true
    },
    "kernelspec": {
      "name": "python3",
      "display_name": "Python 3"
    },
    "language_info": {
      "name": "python"
    }
  },
  "cells": [
    {
      "cell_type": "markdown",
      "metadata": {
        "id": "view-in-github",
        "colab_type": "text"
      },
      "source": [
        "<a href=\"https://colab.research.google.com/github/Lsilva483/Progcom-corte-2/blob/main/03_Nov_Leslie.ipynb\" target=\"_parent\"><img src=\"https://colab.research.google.com/assets/colab-badge.svg\" alt=\"Open In Colab\"/></a>"
      ]
    },
    {
      "cell_type": "code",
      "execution_count": null,
      "metadata": {
        "id": "9R9qRLWEJGZ5"
      },
      "outputs": [],
      "source": [
        "class Sayayin():\n",
        "  def __init__(self,cabello,ojos,fuerza,estatura,cola de mono,nombre)\n",
        "  self.cabello=\"negro\"\n",
        "  self.ojos=\"negro\"\n",
        "  self.fuerza=fuerza\n",
        "  self.estatura=estatura\n",
        "  self.cola_de_mono=True\n",
        "  self.nombre=nombre\n",
        "  def color_cabello(self,fuerza_base):\n",
        "    fuerza_t=90000\n",
        "    if fuerza_base*10>=fuerza_t:\n",
        "      print(\"Alcanza nivel sayayin fase 1\")\n",
        "      self.cabello=\"rubio\"\n",
        "    elif fuerza_base*20>=fuerza_t*20:\n",
        "      print(\"Alcanza nivel sayayin fase 2\")\n",
        "      self.cabello=\"rubio\"\n",
        "    elif fuerza_base*1000>=fuerza_t*1000:\n",
        "      print(\"Alcanza nivel sayayin fase 4\")\n",
        "      self.cabello=\"negro\"\n",
        "      if self.cola==False:\n",
        "        self.cola=True\n",
        "    else:\n",
        "      print(\"Alcanza nivel sayayin ultrainstinto\")\n",
        "      self.cabello=\"cenizo\"\n",
        "  def trabajo (self,trabajo):\n",
        "    if trabajo==1:\n",
        "      print(f\"{self.nombre} es de tipo guerrero\")\n",
        "    elif trabajo==2:\n",
        "      print(f\"{self.nombre} es de tipo liendra de freezer\")\n",
        "    elif trabajo==3:\n",
        "      print(f\"{self.nombre} es de tipo mercenarios\")\n",
        "    else:\n",
        "       print(f\"{self.nombre} es de la realeza\")"
      ]
    },
    {
      "cell_type": "code",
      "source": [
        "class Humano():\n",
        "  def init(self,nombre,cabello, ojos, fuerza, estatura):\n",
        "    self.cabello=cabello\n",
        "    self.ojos=ojos\n",
        "    self.fuerza=fuerza\n",
        "    self.estatura=estatura\n",
        "    self.nombre=nombre\n",
        "  \n",
        "  def color_cabello(self,tinte):\n",
        "    if tinte==0:\n",
        "      print(self.nombre,\"ha decolorado su cabello\")\n",
        "      self.cabello=\"amarillo\"\n",
        "    elif tinte==2:\n",
        "      print(self.nombre,\"ha colorado su cabello de lila\")\n",
        "      self.cabello=\"lila\"\n",
        "    elif tinte==3:\n",
        "      print(self.nombre,\"ha colorado su cabello nuez\")\n",
        "      self.cabello=\"nuez\"\n",
        "    else:\n",
        "      print(self.nombre,\"ha colorado su cabello canoso\")\n",
        "      self.cabello=\"canoso\"\n",
        "\n",
        "  def trabajo(self,trabajo):\n",
        "    if trabajo==1:\n",
        "      print(f\"{self.nombre} trabaja como callcenter\")\n",
        "    elif trabajo==2:\n",
        "      print(f\"{self.nombre} trabaja como vendedor de bonice\")\n",
        "    elif trabajo==3:\n",
        "      print(f\"{self.nombre} trabaja como tombo\")\n",
        "    elif trabajo==4:\n",
        "      print(f\"{self.nombre} trabaja como programador de python\")\n",
        "    else:\n",
        "      print(f\"{self.nombre} es nini\")"
      ],
      "metadata": {
        "id": "KtJimb2hOfk-"
      },
      "execution_count": null,
      "outputs": []
    }
  ]
}