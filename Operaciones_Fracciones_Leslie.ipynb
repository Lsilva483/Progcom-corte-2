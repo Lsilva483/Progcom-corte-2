{
  "nbformat": 4,
  "nbformat_minor": 0,
  "metadata": {
    "colab": {
      "provenance": []
    },
    "kernelspec": {
      "name": "python3",
      "display_name": "Python 3"
    },
    "language_info": {
      "name": "python"
    }
  },
  "cells": [
    {
      "cell_type": "markdown",
      "source": [
        "##SUMA DE FRACCIONES"
      ],
      "metadata": {
        "id": "kJ4vpJF93vcZ"
      }
    },
    {
      "cell_type": "code",
      "execution_count": 1,
      "metadata": {
        "colab": {
          "base_uri": "https://localhost:8080/"
        },
        "id": "4qjEYKCO3RKw",
        "outputId": "73694494-ef2e-43b8-e390-8cb8a3b476a2"
      },
      "outputs": [
        {
          "output_type": "stream",
          "name": "stdout",
          "text": [
            "8 / 4\n"
          ]
        }
      ],
      "source": [
        "class Fracciones:\n",
        "  def __init__(self,numerador,denominador):\n",
        "    self.num=numerador\n",
        "    self.den=denominador\n",
        "  def imprimir(self):\n",
        "    print(self.num,\"/\",self.den)\n",
        "  def sumar(self,other):\n",
        "    num2=self.num*other.den+self.den*other.num\n",
        "    den2=self.den*other.den\n",
        "    r=Fracciones(num2,den2)\n",
        "    return r #Para que este en el codigo principal y se vuelva global\n",
        " \n",
        "        \n",
        "f1=Fracciones(3,2)\n",
        "f2=Fracciones(1,2)\n",
        "x=Fracciones.sumar(f1,f2)\n",
        "x.imprimir()\n"
      ]
    },
    {
      "cell_type": "markdown",
      "source": [
        "##RESTA DE FRACCIONES"
      ],
      "metadata": {
        "id": "S-LCry863ycg"
      }
    },
    {
      "cell_type": "code",
      "source": [
        "class Fracciones:\n",
        "  def __init__(self,numerador,denominador):\n",
        "    self.num=numerador\n",
        "    self.den=denominador\n",
        "  def imprimir(self):\n",
        "    print(self.num,\"/\",self.den)\n",
        "  def restar(self,other):\n",
        "    num2=self.num*other.den-self.den*other.num\n",
        "    den2=self.den*other.den\n",
        "    r=Fracciones(num2,den2)\n",
        "    return r #Para que este en el codigo principal y se vuelva global\n",
        " \n",
        "        \n",
        "f1=Fracciones(3,2)\n",
        "f2=Fracciones(1,2)\n",
        "x=Fracciones.restar(f1,f2)\n",
        "x.imprimir()\n"
      ],
      "metadata": {
        "colab": {
          "base_uri": "https://localhost:8080/"
        },
        "id": "1nCSIvT_31Dm",
        "outputId": "b691b297-cb3d-41db-d706-6a6da95cbcb9"
      },
      "execution_count": 3,
      "outputs": [
        {
          "output_type": "stream",
          "name": "stdout",
          "text": [
            "4 / 4\n"
          ]
        }
      ]
    },
    {
      "cell_type": "markdown",
      "source": [
        "##DIVISIÓN DE FRACCIONES"
      ],
      "metadata": {
        "id": "dRQKITX04Of7"
      }
    },
    {
      "cell_type": "code",
      "source": [
        "class Fracciones:\n",
        "  def __init__(self,numerador,denominador):\n",
        "    self.num=numerador\n",
        "    self.den=denominador\n",
        "  def imprimir(self):\n",
        "    print(self.num,\"/\",self.den)\n",
        "  def cociente(self, other):\n",
        "    if self.den*other.num !=0:\n",
        "      return Fracciones(self.num*other.den, self.den*other.num)\n",
        "    else:\n",
        "      print(\"Esto no es de diosito\")\n",
        " \n",
        "        \n",
        "f1=Fracciones(3,2)\n",
        "f2=Fracciones(1,4)\n",
        "x=Fracciones.cociente(f1,f2)\n",
        "x.imprimir()\n"
      ],
      "metadata": {
        "colab": {
          "base_uri": "https://localhost:8080/"
        },
        "id": "YP7wuyE74SBs",
        "outputId": "04d407f2-b632-40ab-9484-6412351ebbd7"
      },
      "execution_count": 10,
      "outputs": [
        {
          "output_type": "stream",
          "name": "stdout",
          "text": [
            "12 / 2\n"
          ]
        }
      ]
    },
    {
      "cell_type": "markdown",
      "source": [
        "##MULTIPLICACIÓN DE FRACCIONES"
      ],
      "metadata": {
        "id": "mGNF7_V56P1P"
      }
    },
    {
      "cell_type": "code",
      "source": [
        "class Fracciones:\n",
        "  def __init__(self,numerador,denominador):\n",
        "    self.num=numerador\n",
        "    self.den=denominador\n",
        "  def imprimir(self):\n",
        "    print(self.num,\"/\",self.den)\n",
        "  def multiplicacion(self, other):\n",
        "    return Fracciones(self.num*other.num, self.den*other.den)\n",
        "\n",
        " \n",
        "        \n",
        "f1=Fracciones(3,2)\n",
        "f2=Fracciones(1,2)\n",
        "x=Fracciones.multiplicacion(f1,f2)\n",
        "x.imprimir()"
      ],
      "metadata": {
        "colab": {
          "base_uri": "https://localhost:8080/"
        },
        "id": "xb5qlsIm6Yiu",
        "outputId": "0b337f53-f5a4-4952-c3ea-0e1d74675fb7"
      },
      "execution_count": 11,
      "outputs": [
        {
          "output_type": "stream",
          "name": "stdout",
          "text": [
            "3 / 4\n"
          ]
        }
      ]
    },
    {
      "cell_type": "markdown",
      "source": [
        "POTENCIA DE FRACCIONES"
      ],
      "metadata": {
        "id": "ho0oA4L6I9Xd"
      }
    },
    {
      "cell_type": "code",
      "source": [
        "class Fraaccion():\n",
        "  nume=0\n",
        "  deno=1\n",
        "  exp=0\n",
        "\n",
        "  def __init__(self,nume=0,deno=1,exp=0):\n",
        "    self.nume=nume\n",
        "    self.deno=deno\n",
        "    self.exp=exp\n",
        "\n",
        "  def potencia(self):\n",
        "    if self.exp <0:\n",
        "      nume=self.deno**self.exp\n",
        "      deno=self.nume**self.exp\n",
        "\n",
        "    elif self.exp==0:\n",
        "      nume=1\n",
        "      deno=1\n",
        "\n",
        "    else:\n",
        "      nume=self.nume**self.exp\n",
        "      deno=self.deno**self.exp\n",
        "      \n",
        "    re=Fraaccion(nume,deno)\n",
        "    print(re.nume,\"/\",re.deno)\n",
        "    \n",
        "  \n",
        "  def imprime(self):\n",
        "    print(self.nume,\"/\",self.deno)\n",
        "a=Fraaccion(5,6,3)\n",
        "b=Fraaccion(1,2,0)\n",
        "b.potencia()"
      ],
      "metadata": {
        "colab": {
          "base_uri": "https://localhost:8080/"
        },
        "id": "sf7cSrrxI2rP",
        "outputId": "63690750-c40a-4def-e558-6fecacbb2af3"
      },
      "execution_count": 14,
      "outputs": [
        {
          "output_type": "stream",
          "name": "stdout",
          "text": [
            "1 / 1\n"
          ]
        }
      ]
    }
  ]
}