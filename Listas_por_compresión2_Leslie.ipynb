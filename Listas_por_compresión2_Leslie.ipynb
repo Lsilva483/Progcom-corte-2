{
  "nbformat": 4,
  "nbformat_minor": 0,
  "metadata": {
    "colab": {
      "provenance": []
    },
    "kernelspec": {
      "name": "python3",
      "display_name": "Python 3"
    },
    "language_info": {
      "name": "python"
    }
  },
  "cells": [
    {
      "cell_type": "markdown",
      "source": [
        "Listas por compresión:\n",
        "En listas []\n",
        "En diccionarios {}\n",
        "Ventajas: Más eficiente en tiempo y espacio que los bucles, requiere menos lineas de codigo.\n"
      ],
      "metadata": {
        "id": "3rptSr6V-pIw"
      }
    },
    {
      "cell_type": "markdown",
      "source": [
        "Ejercicio: El usuario ingresa las palabras que desee y el programa le muestra cual de las palabras que ingresó son palíndromo"
      ],
      "metadata": {
        "id": "rFKotDiFsuUn"
      }
    },
    {
      "cell_type": "markdown",
      "source": [
        "##Mi ejercicio"
      ],
      "metadata": {
        "id": "q_tmHW3T8hmu"
      }
    },
    {
      "cell_type": "code",
      "source": [
        "c=int(input(\"Digita la cantidad de elementos que deseas ingresar: \"))\n",
        "a=0\n",
        "lista1=[]\n",
        "while a < c:\n",
        "  a=a+1\n",
        "  word=str(input(\"Escribe aquí: \")).lower()\n",
        "  lista1.append(word)\n",
        "print(lista1)\n",
        "lista2=[x for x in lista1 if x==x[::-1]]\n",
        "print(\"Palabras Palíndromo\",lista2)\n"
      ],
      "metadata": {
        "colab": {
          "base_uri": "https://localhost:8080/"
        },
        "id": "2L2whDyDwPHr",
        "outputId": "20da15ce-bccd-47d9-ef28-5d66e02898bb"
      },
      "execution_count": null,
      "outputs": [
        {
          "output_type": "stream",
          "name": "stdout",
          "text": [
            "Digita la cantidad de elementos que deseas ingresar: 3\n",
            "Escribe aquí: manolo\n",
            "Escribe aquí: ana\n",
            "Escribe aquí: perro\n",
            "['manolo', 'ana', 'perro']\n",
            "['ana']\n"
          ]
        }
      ]
    },
    {
      "cell_type": "markdown",
      "source": [
        "Ejercicio 1"
      ],
      "metadata": {
        "id": "jVSV1kdC_R8u"
      }
    },
    {
      "cell_type": "code",
      "source": [
        "num=[(n*2) for n in range (1,9)] #primero se pone lo que quiero imprimir\n",
        "print(num)"
      ],
      "metadata": {
        "colab": {
          "base_uri": "https://localhost:8080/"
        },
        "id": "UNhM3VvTxO3P",
        "outputId": "45c07fd2-da0c-4384-9512-6bfb83682b47"
      },
      "execution_count": null,
      "outputs": [
        {
          "output_type": "stream",
          "name": "stdout",
          "text": [
            "[2, 4, 6, 8, 10, 12, 14, 16]\n"
          ]
        }
      ]
    },
    {
      "cell_type": "markdown",
      "source": [
        "Ejercicio 2"
      ],
      "metadata": {
        "id": "3oIF8BPkApa0"
      }
    },
    {
      "cell_type": "code",
      "source": [
        "cadenas=[\"*\"* n for n in range(1,6)]\n",
        "print(cadenas)"
      ],
      "metadata": {
        "colab": {
          "base_uri": "https://localhost:8080/"
        },
        "id": "BsmCZAiP_RV3",
        "outputId": "1d748e05-5b6b-42b1-ff14-46305e871ce4"
      },
      "execution_count": null,
      "outputs": [
        {
          "output_type": "stream",
          "name": "stdout",
          "text": [
            "['*', '**', '***', '****', '*****']\n"
          ]
        }
      ]
    },
    {
      "cell_type": "markdown",
      "source": [
        "Ejercicio 3"
      ],
      "metadata": {
        "id": "3SXeqTb_CeYb"
      }
    },
    {
      "cell_type": "code",
      "source": [
        "num=[2,5,6,9,10]\n",
        "cuadrados=[(n**2)for n in num]\n",
        "print(cuadrados)"
      ],
      "metadata": {
        "colab": {
          "base_uri": "https://localhost:8080/"
        },
        "id": "L0R6KJawAv_8",
        "outputId": "f521acb4-ff3e-4cde-c52b-fdc00dcf32a4"
      },
      "execution_count": null,
      "outputs": [
        {
          "output_type": "stream",
          "name": "stdout",
          "text": [
            "[4, 25, 36, 81, 100]\n"
          ]
        }
      ]
    },
    {
      "cell_type": "markdown",
      "source": [
        "Ejercicio 4"
      ],
      "metadata": {
        "id": "sSXereJTC8jq"
      }
    },
    {
      "cell_type": "code",
      "source": [
        "x=input(\"Ingrese la palabra que desee: \")\n",
        "lista=[n for n in x]\n",
        "print(lista)\n"
      ],
      "metadata": {
        "colab": {
          "base_uri": "https://localhost:8080/"
        },
        "id": "sD5DKfMaA_gc",
        "outputId": "c1cd81ff-f071-4f99-b95f-48c7be5b96be"
      },
      "execution_count": null,
      "outputs": [
        {
          "output_type": "stream",
          "name": "stdout",
          "text": [
            "Ingrese la palabra que desee: Samuel\n",
            "['S', 'a', 'm', 'u', 'e', 'l']\n"
          ]
        }
      ]
    },
    {
      "cell_type": "markdown",
      "source": [
        "Ejercicio 5\n"
      ],
      "metadata": {
        "id": "tvKTR8NnDxGu"
      }
    },
    {
      "cell_type": "code",
      "source": [
        "lista1=[2,7,10,9,8]\n",
        "lista2=[elementos**2 for elementos in lista1 if elementos%2==0]\n",
        "print(lista2)\n",
        "\n"
      ],
      "metadata": {
        "colab": {
          "base_uri": "https://localhost:8080/"
        },
        "id": "rlchwcGDDE6x",
        "outputId": "aaeb4d88-38d0-4259-e985-a129ad41e04b"
      },
      "execution_count": null,
      "outputs": [
        {
          "output_type": "stream",
          "name": "stdout",
          "text": [
            "[4, 100, 64]\n"
          ]
        }
      ]
    },
    {
      "cell_type": "markdown",
      "source": [
        "Ejercicio 6\n"
      ],
      "metadata": {
        "id": "ssee4Cz_D0Zu"
      }
    },
    {
      "cell_type": "code",
      "source": [
        "import random\n",
        "capitan=[random.randrange(1,30)for i in range(9)] #Rango donde se va generar la lista aleatoria\n",
        "print(\"Imprimir números aleatorios de la lista: \",str(capitan))\n"
      ],
      "metadata": {
        "colab": {
          "base_uri": "https://localhost:8080/"
        },
        "id": "0qwYVB2ND1wu",
        "outputId": "0d2638fc-8065-4a21-fcf9-d1a17dc15c12"
      },
      "execution_count": null,
      "outputs": [
        {
          "output_type": "stream",
          "name": "stdout",
          "text": [
            "Imprimir números aleatorios de la lista:  [2, 28, 6, 17, 1, 24, 6, 25, 14]\n"
          ]
        }
      ]
    },
    {
      "cell_type": "markdown",
      "source": [
        "Ejercicio 7"
      ],
      "metadata": {
        "id": "K3vqY2YpE_Fp"
      }
    },
    {
      "cell_type": "code",
      "source": [
        "precios=[]\n",
        "print(\"Ingrese los números de los que quieres hacer un descuento\")\n",
        "det=True\n",
        "while det:\n",
        "  num=int(input(\" Si no desea agregar más números digite 0\"))\n",
        "  precios.append(num)\n",
        "  det=False if num == 0 else num>0\n",
        "des=float(input(print(\"Ingrese el descuento sin el %\")))\n",
        "presdes=[precio*des/100 for precio in precios]\n",
        "presdes.pop(-1) #pop para no tomar un valor determinado de la lista\n",
        "print(\"Este es el valor que le debes restar a cada número\", presdes)"
      ],
      "metadata": {
        "colab": {
          "base_uri": "https://localhost:8080/"
        },
        "id": "l-dxM7EJFA_J",
        "outputId": "e9b3ec76-14fe-4daa-8c6c-bd6831b19927"
      },
      "execution_count": null,
      "outputs": [
        {
          "output_type": "stream",
          "name": "stdout",
          "text": [
            "Ingrese los números de los que quieres hacer un descuento\n",
            " Si no desea agregar más números digite 0100\n",
            " Si no desea agregar más números digite 0200\n",
            " Si no desea agregar más números digite 0300\n",
            " Si no desea agregar más números digite 00\n",
            "Ingrese el descuento sin el %\n",
            "None20\n",
            "Este es el valor que le debes restar a cada número [20.0, 40.0, 60.0]\n"
          ]
        }
      ]
    },
    {
      "cell_type": "markdown",
      "source": [
        "Ejercicio 8"
      ],
      "metadata": {
        "id": "eiGrq-eoHgc7"
      }
    },
    {
      "cell_type": "code",
      "source": [
        "num=[]\n",
        "for i in range (6):\n",
        "  num.append(int(input(\"Introduce el número ganador\")))\n",
        "num.sort()\n",
        "print(\"Los números ganadores del baloto son:\" + str(num))\n"
      ],
      "metadata": {
        "colab": {
          "base_uri": "https://localhost:8080/"
        },
        "id": "9EHv37wXHiE6",
        "outputId": "42d812a5-8d22-485e-dfdb-baabccf10dbd"
      },
      "execution_count": null,
      "outputs": [
        {
          "output_type": "stream",
          "name": "stdout",
          "text": [
            "Introduce el número ganador4\n",
            "Introduce el número ganador2\n",
            "Introduce el número ganador82\n",
            "Introduce el número ganador23\n",
            "Introduce el número ganador52\n",
            "Introduce el número ganador46\n",
            "Los números ganadores del baloto son:[2, 4, 23, 46, 52, 82]\n"
          ]
        }
      ]
    },
    {
      "cell_type": "markdown",
      "source": [
        "Ejercicio 9 by Isaac"
      ],
      "metadata": {
        "id": "eDk7Hkbfwl9E"
      }
    },
    {
      "cell_type": "code",
      "source": [
        "lista=[]\n",
        "x=input(\"Digita una palabra \")\n",
        "lista.append(x)\n",
        "y=input(\"Si desea digitar otra palabra, escribe S: \")\n",
        "while y==\"S\" or y==\"s\":\n",
        "  x=input(\"Digita otra palabra \")\n",
        "  lista.append(x)\n",
        "  y=input(\"Si desea digitar otra palabra, escribe S: \")\n",
        "lista\n",
        " "
      ],
      "metadata": {
        "colab": {
          "base_uri": "https://localhost:8080/"
        },
        "id": "ecR4S42_xbPu",
        "outputId": "119b5926-5abf-4e73-fad1-a0289907835a"
      },
      "execution_count": 8,
      "outputs": [
        {
          "name": "stdout",
          "output_type": "stream",
          "text": [
            "Digita una palabra hola\n",
            "Si desea digitar otra palabra, escribe S: s\n",
            "Digita otra palabra chao\n",
            "Si desea digitar otra palabra, escribe S: s\n",
            "Digita otra palabra ja\n",
            "Si desea digitar otra palabra, escribe S: h\n"
          ]
        },
        {
          "output_type": "execute_result",
          "data": {
            "text/plain": [
              "['hola', 'chao', 'ja']"
            ]
          },
          "metadata": {},
          "execution_count": 8
        }
      ]
    },
    {
      "cell_type": "code",
      "source": [
        "n=int(input(\"Ingresa el número de palabras\"))\n",
        "lista=[]\n",
        "lista1=[]\n",
        "for i in range (n):\n",
        "  l=input(\"Ingresa la palabra \")\n",
        "  if l.isupper():lista.append(l)\n",
        "  if l.islower():lista1.append(l)\n",
        "print(lista)\n",
        "print(lista1)"
      ],
      "metadata": {
        "colab": {
          "base_uri": "https://localhost:8080/"
        },
        "id": "9zc87-rVwjXG",
        "outputId": "1b14260b-24bd-47b2-85ec-f09c4f7611ce"
      },
      "execution_count": 3,
      "outputs": [
        {
          "output_type": "stream",
          "name": "stdout",
          "text": [
            "Ingresa el número de palabras2\n",
            "Ingresa la palabra lalala\n",
            "Ingresa la palabra LALALA\n",
            "['LALALA']\n",
            "['lalala']\n"
          ]
        }
      ]
    },
    {
      "cell_type": "markdown",
      "source": [
        "Ejercicio 10 by Manolo"
      ],
      "metadata": {
        "id": "aZwkoEr9_dEe"
      }
    },
    {
      "cell_type": "code",
      "source": [
        "import random\n",
        "stock=['martillo','alicate','audifonos','martillo']\n",
        "cality=['GOOD','FAIL']\n",
        "a=[]\n",
        "\n",
        "for i in stock:\n",
        "  a.append((i,random.choice(cality)))\n",
        "listg=[]\n",
        "listf=[]\n",
        "listg = [x for x in a if 'GOOD' in x]\n",
        "listf= [x for x in a if 'FAIL' in x]\n",
        "print(listg,listf)"
      ],
      "metadata": {
        "id": "vqsKnvE7_kQG"
      },
      "execution_count": null,
      "outputs": []
    },
    {
      "cell_type": "code",
      "source": [
        "import random\n",
        "stock=[\"martillo\",\"alicate\"]\n",
        "cality=['GOOD','FAIL']\n",
        "a=[]\n",
        "\n",
        "for i in stock:\n",
        "  a.append((i,random.choice(cality)))\n",
        "print(a)\n",
        "listg=[]\n",
        "listf=[]\n",
        "for x in a:\n",
        "  if 'GOOD' in x:\n",
        "    listg.append(x)\n",
        "    print(listg)\n",
        "  elif 'FAIL' in x:\n",
        "    listf.append(x)\n",
        "    print(listf)"
      ],
      "metadata": {
        "id": "vsVMHXDkAZGq"
      },
      "execution_count": null,
      "outputs": []
    },
    {
      "cell_type": "markdown",
      "source": [
        "Ejercicio de Paula"
      ],
      "metadata": {
        "id": "pjlNPgFtIK1o"
      }
    },
    {
      "cell_type": "code",
      "source": [
        "def capitalizar (oracion):\n",
        "  listap=[]\n",
        "  for l in n1:\n",
        "    listap.append(l)\n",
        "    listap[0]=n1[0].upper()\n",
        "  print(\"\".join(listap))"
      ],
      "metadata": {
        "id": "B2B0xXMWINP3"
      },
      "execution_count": 9,
      "outputs": []
    },
    {
      "cell_type": "code",
      "source": [
        "n1=input(\"Ingresa una oración \")\n",
        "oracion=capitalizar(n1)\n",
        "oracion"
      ],
      "metadata": {
        "colab": {
          "base_uri": "https://localhost:8080/"
        },
        "id": "q8jcMLPPIoRe",
        "outputId": "425197c4-19aa-4ed6-ac0c-dd93c3aa43b8"
      },
      "execution_count": 10,
      "outputs": [
        {
          "output_type": "stream",
          "name": "stdout",
          "text": [
            "Ingresa una oración Hola\n",
            "Hola\n"
          ]
        }
      ]
    },
    {
      "cell_type": "code",
      "source": [
        "import random\n",
        "x=input(\"Ingrese la palabra de la contraseña\")\n",
        "palabras=[letra for letra in x]\n",
        "numeros=[num for num in range(0,10)]\n",
        "generador=[random.choice(numeros) or random.choice(palabras) for num in range(0,11)]\n",
        "print(generador)"
      ],
      "metadata": {
        "colab": {
          "base_uri": "https://localhost:8080/"
        },
        "id": "-ofg-h3qKWJM",
        "outputId": "c744fefa-bfe0-4d9e-f45b-bc78599022cd"
      },
      "execution_count": 14,
      "outputs": [
        {
          "output_type": "stream",
          "name": "stdout",
          "text": [
            "Ingrese la palabra de la contraseñaleslie\n",
            "[3, 'l', 6, 3, 2, 3, 7, 4, 'l', 6, 4]\n"
          ]
        }
      ]
    },
    {
      "cell_type": "code",
      "source": [
        "print(\"Hola,Soy Lucía del sistema de asignación: \")\n",
        "personas=[(\"Pedro\",33),(\"Ana\",3),(\"Juan\",13),(\"Carla\",45)]\n",
        "perma=list(filter(lambda may: may[1]>=18,personas))\n",
        "perma\n",
        "print(f\"{perma} tendra la cita a las 8am y 10am respectivamente\")\n",
        "perme=list(filter(lambda men: men[1]>18,personas))\n",
        "perme\n",
        "print(f\"{perme} tendra la cita a las 2pm y 4pm respectivamente\")\n"
      ],
      "metadata": {
        "colab": {
          "base_uri": "https://localhost:8080/"
        },
        "id": "q7i4q7jlPP30",
        "outputId": "b7a14e20-4f05-4d78-a3b0-45aec075e187"
      },
      "execution_count": 18,
      "outputs": [
        {
          "output_type": "stream",
          "name": "stdout",
          "text": [
            "Hola,Soy Lucía del sistema de asignación: \n",
            "[('Pedro', 33), ('Carla', 45)] tendra la cita a las 8am y 10am respectivamente\n",
            "[('Pedro', 33), ('Carla', 45)] tendra la cita a las 2pm y 4pm respectivamente\n"
          ]
        }
      ]
    }
  ]
}