{
  "nbformat": 4,
  "nbformat_minor": 0,
  "metadata": {
    "colab": {
      "provenance": []
    },
    "kernelspec": {
      "name": "python3",
      "display_name": "Python 3"
    },
    "language_info": {
      "name": "python"
    }
  },
  "cells": [
    {
      "cell_type": "code",
      "source": [
        "menu={\"Electrodomesticos\":{\"Lavadora\":300,\n",
        "                           \"Licuadora\":90,\n",
        "                           \"Cafetera\":20,\n",
        "                           \"Nevera\":250,\n",
        "                           \"Estufa\":70,\n",
        "                           \"Sanduchera\":29},\n",
        "      \"Frutas\":{\"Manzana\":2,\n",
        "                \"Pera\":4,\n",
        "                \"Piña\":9,\n",
        "                \"Uva\":3,\n",
        "                \"Banano\":8,\n",
        "                \"Naranja\":5},\n",
        "      \"Ropa\":{\"Camisa\":20,\n",
        "              \"Jean\":35,\n",
        "              \"Zapatos\":270,\n",
        "              \"Gorro\":39,\n",
        "              \"Medias\":280,\n",
        "              \"Abrigo\":350}}\n",
        "\n",
        "pedido = []\n",
        "\n",
        "for i in menu.items():\n",
        "  print(i)\n",
        "  print()\n",
        "\n",
        "class Productos():\n",
        "  def __init__(self,nombre,categoria,cant):\n",
        "    self.nombre=nombre\n",
        "    self.categoria=categoria\n",
        "    self.cant=cant\n",
        "\n",
        "class Carrito(Productos):   \n",
        "  def agregar(self):\n",
        "    y=input(\"¿Desea agregar algo a su compra? Si/No\")  \n",
        "    if y==\"Si\":\n",
        "      self.nombre= input(\"Nombre:  \")\n",
        "      categoria=input(\"Categoria:  \")\n",
        "      cantidad= int(input(\"Cantidad: \"))\n",
        "      pregunta=int(input(\"¿Desea agregar o eliminar una cantidad a su producto?\\n\" \"1.Para agregar\\n\" \"2.Para eliminar :\\n \"\"Enter para ninguna de las anteriores :\\n \"))\n",
        "      if pregunta== 1:\n",
        "        Z=int(input(\"Digite la cantidad que desea agregar: \"))\n",
        "        self.cant+=Z\n",
        "        print(cantidad)\n",
        "      elif pregunta==2:\n",
        "        Z=int(input(\"Digite la cantidad que desea eliminar: \"))\n",
        "        self.cant-=Z\n",
        "        print(cantidad)\n",
        "      else: pass\n",
        "    else:\n",
        "      print(\"GRACIAS POR SU COMPRA\")\n",
        "    pedido.append(f\"producto= {self.nombre} categoria =  {self.categoria} cantidad= {self.cant}\")\n",
        "    print(f\"------Recibo------\\n{pedido}\")\n",
        "\n",
        "\n",
        "  def recibo(self,precio):\n",
        "    precio= self.cant * precio\n",
        "    if precio >= 200:\n",
        "      iva = precio * 0.05\n",
        "      precio = precio + iva\n",
        "    print(f\"El valor a pagar es: {precio} Dolares\")\n",
        "  \n",
        "  def eliminar(self,a):\n",
        "    del a\n",
        "\n",
        "producto1=Carrito(\"Manzana\",\"Frutas\",2)\n",
        "producto1.agregar()\n",
        "producto1.recibo(200)\n",
        "\n",
        "x=input(\"¿Desea eliminar el pedido? Si/No\")\n",
        "if x == \"Si\":\n",
        "  producto1.eliminar(producto1)\n",
        "  print(producto1)\n",
        "else:\n",
        "  print(\"GRACIAS POR SU COMPRA\")"
      ],
      "metadata": {
        "colab": {
          "base_uri": "https://localhost:8080/"
        },
        "id": "J4z5UM5HMenG",
        "outputId": "14be295a-768f-4179-8ea5-5ef97080c0ca"
      },
      "execution_count": 5,
      "outputs": [
        {
          "output_type": "stream",
          "name": "stdout",
          "text": [
            "('Electrodomesticos', {'Lavadora': 300, 'Licuadora': 90, 'Cafetera': 20, 'Nevera': 250, 'Estufa': 70, 'Sanduchera': 29})\n",
            "\n",
            "('Frutas', {'Manzana': 2, 'Pera': 4, 'Piña': 9, 'Uva': 3, 'Banano': 8, 'Naranja': 5})\n",
            "\n",
            "('Ropa', {'Camisa': 20, 'Jean': 35, 'Zapatos': 270, 'Gorro': 39, 'Medias': 280, 'Abrigo': 350})\n",
            "\n",
            "¿Desea agregar algo a su compra? Si/NoSi\n",
            "Nombre:  asda\n",
            "Categoria:  ada\n",
            "Cantidad: 34\n",
            "¿Desea agregar o eliminar una cantidad a su producto?\n",
            "1.Para agregar\n",
            "2.Para eliminar :\n",
            " Enter para ninguna de las anteriores :\n",
            " 1\n",
            "Digite la cantidad que desea agregar: 23\n",
            "34\n",
            "------Recibo------\n",
            "['producto= asda categoria =  Frutas cantidad= 25']\n",
            "El valor a pagar es: 5250.0 Dolares\n",
            "¿Desea eliminar el pedido? Si/NoNo\n",
            "GRACIAS POR SU COMPRA\n"
          ]
        }
      ]
    }
  ]
}