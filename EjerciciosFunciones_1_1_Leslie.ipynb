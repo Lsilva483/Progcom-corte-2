{
  "nbformat": 4,
  "nbformat_minor": 0,
  "metadata": {
    "colab": {
      "provenance": [],
      "collapsed_sections": [],
      "authorship_tag": "ABX9TyOTzufjED7oW8cVIF5rA7i2",
      "include_colab_link": true
    },
    "kernelspec": {
      "name": "python3",
      "display_name": "Python 3"
    },
    "language_info": {
      "name": "python"
    }
  },
  "cells": [
    {
      "cell_type": "markdown",
      "metadata": {
        "id": "view-in-github",
        "colab_type": "text"
      },
      "source": [
        "<a href=\"https://colab.research.google.com/github/Lsilva483/Progcom-corte-2/blob/main/EjerciciosFunciones_1_1_Leslie.ipynb\" target=\"_parent\"><img src=\"https://colab.research.google.com/assets/colab-badge.svg\" alt=\"Open In Colab\"/></a>"
      ]
    },
    {
      "cell_type": "markdown",
      "source": [
        "12.Capture el número de mayúsculas y minúsculas en una oración."
      ],
      "metadata": {
        "id": "-psIfc-2G24s"
      }
    },
    {
      "cell_type": "code",
      "execution_count": null,
      "metadata": {
        "colab": {
          "base_uri": "https://localhost:8080/"
        },
        "id": "QyuyLHOfGs8l",
        "outputId": "1b727158-cc8b-4b59-d116-b65c1162a0dc"
      },
      "outputs": [
        {
          "output_type": "stream",
          "name": "stdout",
          "text": [
            "Esta frase tiene 8 letras mayúsculas y 11 letras minúsculas\n"
          ]
        }
      ],
      "source": [
        "frase=\"Programar Es mi PASIÓN\"\n",
        "def cuenta (frase):\n",
        "  cantidad={\"mayus\":0,\"minus\":0}\n",
        "  for l in frase:\n",
        "    if l.islower():\n",
        "      cantidad[\"minus\"]=cantidad[\"minus\"]+1\n",
        "    elif l.isupper():\n",
        "      cantidad[\"mayus\"]=cantidad[\"mayus\"]+1\n",
        "  return cantidad\n",
        "final=cuenta(frase)\n",
        "print(\"Esta frase tiene\",final[\"mayus\"],\"letras mayúsculas y\",final[\"minus\"],\"letras minúsculas\")\n"
      ]
    },
    {
      "cell_type": "markdown",
      "source": [
        "13.. El ejercicio anterior, pero almacene los resultados en un diccionario.\n"
      ],
      "metadata": {
        "id": "NCKuyiiqOtZT"
      }
    },
    {
      "cell_type": "code",
      "source": [
        "frase=\"Programar Es mi PASIÓN\"\n",
        "def cuenta (frase):\n",
        "  cantidad={\"mayus\":0,\"minus\":0}\n",
        "  for l in frase:\n",
        "    if l.islower():\n",
        "      cantidad[\"minus\"]=cantidad[\"minus\"]+1\n",
        "    elif l.isupper():\n",
        "      cantidad[\"mayus\"]=cantidad[\"mayus\"]+1\n",
        "  return cantidad\n",
        "print(cuenta(frase))\n"
      ],
      "metadata": {
        "colab": {
          "base_uri": "https://localhost:8080/"
        },
        "id": "VF-1YsxUP6uk",
        "outputId": "80f1d41b-5b7d-4761-a3f0-1dd12bfd3b7e"
      },
      "execution_count": null,
      "outputs": [
        {
          "output_type": "stream",
          "name": "stdout",
          "text": [
            "{'mayus': 8, 'minus': 11}\n"
          ]
        }
      ]
    },
    {
      "cell_type": "markdown",
      "source": [
        "14.Reciba una lista y retorne sólo los elementos pares"
      ],
      "metadata": {
        "id": "CF7XUa-2QLDn"
      }
    },
    {
      "cell_type": "code",
      "source": [
        "print(\"Digite las vocales\")\n",
        "lista=[]\n",
        "c=0\n",
        "while c<5:\n",
        "  c=c+1\n",
        "  x=str(input(\"Escriba aquí \")).upper() #Para pasar el dato a mayúscula\n",
        "  lista.append(x)\n",
        "def pares (lista):\n",
        "  return lista[0:5:2]\n",
        "print(lista)\n",
        "pares(lista)\n",
        "\n"
      ],
      "metadata": {
        "colab": {
          "base_uri": "https://localhost:8080/"
        },
        "id": "KTbtR-QvjOfu",
        "outputId": "20f1f913-ec5f-4a4b-f1b6-3f40b5f9bf8a"
      },
      "execution_count": null,
      "outputs": [
        {
          "output_type": "stream",
          "name": "stdout",
          "text": [
            "Digite las vocales\n",
            "Escriba aquí a\n",
            "Escriba aquí E\n",
            "Escriba aquí i\n",
            "Escriba aquí o\n",
            "Escriba aquí u\n",
            "['A', 'E', 'I', 'O', 'U']\n"
          ]
        },
        {
          "output_type": "execute_result",
          "data": {
            "text/plain": [
              "['A', 'I', 'U']"
            ]
          },
          "metadata": {},
          "execution_count": 52
        }
      ]
    },
    {
      "cell_type": "markdown",
      "source": [
        "15.Reciba una lista y retorne sólo los elementos de posición impar"
      ],
      "metadata": {
        "id": "md1-Xqttvfby"
      }
    },
    {
      "cell_type": "code",
      "source": [
        "print(\"Digite las vocales\")\n",
        "lista=[]\n",
        "c=0\n",
        "while c<5:\n",
        "  c=c+1\n",
        "  x=str(input(\"Escriba aquí \")).upper() #Para pasar el dato a mayúscula\n",
        "  lista.append(x)\n",
        "def pares (lista):\n",
        "  return(lista[1:5:2]) \n",
        "print(lista)\n",
        "(pares(lista))"
      ],
      "metadata": {
        "colab": {
          "base_uri": "https://localhost:8080/"
        },
        "id": "M_cuSIAFvkFM",
        "outputId": "300b714a-2b31-4ce8-f1f6-30db0f362f3c"
      },
      "execution_count": null,
      "outputs": [
        {
          "output_type": "stream",
          "name": "stdout",
          "text": [
            "Digite las vocales\n",
            "Escriba aquí a\n",
            "Escriba aquí E\n",
            "Escriba aquí i\n",
            "Escriba aquí o\n",
            "Escriba aquí U\n",
            "['A', 'E', 'I', 'O', 'U']\n"
          ]
        },
        {
          "output_type": "execute_result",
          "data": {
            "text/plain": [
              "['E', 'O']"
            ]
          },
          "metadata": {},
          "execution_count": 31
        }
      ]
    },
    {
      "cell_type": "markdown",
      "source": [
        "16.Recibir un número y decir si es perfecto o no. Ejemplo: 6 es perfecto, porque la suma de sus\n",
        "divisores es 6 (1+2+3)"
      ],
      "metadata": {
        "id": "hPvV4ri1wKuB"
      }
    },
    {
      "cell_type": "code",
      "source": [
        "def perfecto (num):\n",
        "  suma=0\n",
        "  for x in range (1,num):\n",
        "    if num % x ==0:\n",
        "      suma=suma + x\n",
        "  return suma==num\n",
        "\n",
        "num=int(input(\"Digita un número \"))\n",
        "muestra=(perfecto(num))\n",
        "if muestra == True:\n",
        "  print(f\"El número {num} es perfecto\")\n",
        "else:\n",
        "  print(f\"El número {num} no es perfecto\")"
      ],
      "metadata": {
        "colab": {
          "base_uri": "https://localhost:8080/"
        },
        "id": "mptyVEE4wOSp",
        "outputId": "b9797cb9-62f6-4a18-a49b-90860a017b4e"
      },
      "execution_count": null,
      "outputs": [
        {
          "output_type": "stream",
          "name": "stdout",
          "text": [
            "Digita un número 496\n",
            "El número 496 es perfecto\n"
          ]
        }
      ]
    },
    {
      "cell_type": "markdown",
      "source": [
        "17.Chequear si una palabra es palíndromo o no. Ejemplo: “Ana” es un palíndromo"
      ],
      "metadata": {
        "id": "UZKz7Ieg9TNT"
      }
    },
    {
      "cell_type": "code",
      "source": [
        "def pali (word):\n",
        "  rev=word[::-1]\n",
        "  return word==rev\n",
        "word=str(input(\"Digita una palabra \"))\n",
        "final=pali(word)\n",
        "if final == True:\n",
        "  print(f\"{word} es una palabra palíndromo\")\n",
        "else:\n",
        "  print(f\"{word} no es una palabra palíndromo\")\n"
      ],
      "metadata": {
        "colab": {
          "base_uri": "https://localhost:8080/"
        },
        "id": "MMAgt0aR-SJz",
        "outputId": "1d047b9a-cbf0-4317-e036-0744e64e80c6"
      },
      "execution_count": null,
      "outputs": [
        {
          "output_type": "stream",
          "name": "stdout",
          "text": [
            "Digita una palabra laura\n",
            "laura no es una palabra palíndromo\n"
          ]
        }
      ]
    },
    {
      "cell_type": "markdown",
      "source": [
        "18.Imprimir la fila n del triángulo de pascal\n"
      ],
      "metadata": {
        "id": "ARK-j5_S_u_D"
      }
    },
    {
      "cell_type": "code",
      "source": [
        "from math import factorial\n",
        "n=int(input(\"Digita un número para tu triángulo de pascal \"))\n",
        "def pascal (n):\n",
        "  for a in range (n):\n",
        "    for b in range (n-a+1):\n",
        "      print(end=\" \")\n",
        "    for b in range (a+1):\n",
        "      print(factorial(a)//(factorial(b)*factorial(a-b)),end=\" \")\n",
        "    print()\n",
        "\n",
        "pascal(n)"
      ],
      "metadata": {
        "id": "Rz0NiYTZ_09M",
        "colab": {
          "base_uri": "https://localhost:8080/"
        },
        "outputId": "d87c6bdc-89a0-47e8-cc46-e2f14a393931"
      },
      "execution_count": null,
      "outputs": [
        {
          "output_type": "stream",
          "name": "stdout",
          "text": [
            "Digita un número para tu triángulo de pascal 6\n",
            "       1 \n",
            "      1 1 \n",
            "     1 2 1 \n",
            "    1 3 3 1 \n",
            "   1 4 6 4 1 \n",
            "  1 5 10 10 5 1 \n"
          ]
        }
      ]
    },
    {
      "cell_type": "markdown",
      "source": [
        "19.Imprimir una frase tipo oración. Ejemplo: Ingresa: esta es una oración e imprime Esta es una\n",
        "oración."
      ],
      "metadata": {
        "id": "I9ChOSngFtHJ"
      }
    },
    {
      "cell_type": "code",
      "source": [
        "frase=str(input(\"Escribe algo chévere: \"))\n",
        "def imp (frase):\n",
        "  frase.lower()\n",
        "  frase=frase + \".\"\n",
        "  return frase.capitalize() #funcion para poner en mayúscula la primera letra de la oración\n",
        "\n",
        "print(imp(frase))\n"
      ],
      "metadata": {
        "colab": {
          "base_uri": "https://localhost:8080/"
        },
        "id": "F6hkoFzbF6Op",
        "outputId": "6cd6d881-ef14-4d18-8615-8d3b23a91ca9"
      },
      "execution_count": null,
      "outputs": [
        {
          "output_type": "stream",
          "name": "stdout",
          "text": [
            "Escribe algo chévere: nuestro DISTRITO ES el mejor!\n",
            "Nuestro distrito es el mejor!.\n"
          ]
        }
      ]
    },
    {
      "cell_type": "markdown",
      "source": [
        "20.Acepte palabras separadas por – y las ordene alfabéticamente.\n",
        "Ejemplo: ingresa verde-rojo-amarillo-blanco-negro\n",
        "Regresa: amarillo-blanco-negro-rojo-verde"
      ],
      "metadata": {
        "id": "hWTfj1soJ1T8"
      }
    },
    {
      "cell_type": "code",
      "source": [
        "def secuencia (word):\n",
        "  word=word.replace(\"-\",\" \")\n",
        "  final=word.split()\n",
        "  final.sort()\n",
        "  return final\n",
        "word=str(input(\"Escribe una secuencia de palabras: \"))\n",
        "print(secuencia(word))"
      ],
      "metadata": {
        "colab": {
          "base_uri": "https://localhost:8080/"
        },
        "id": "Mn7uj1k5yUFR",
        "outputId": "776ffd12-ba4d-4c6d-c887-9d1431a773c9"
      },
      "execution_count": 4,
      "outputs": [
        {
          "output_type": "stream",
          "name": "stdout",
          "text": [
            "Escribe una secuencia de palabras: sapo-perro-gato-oso-conejo-vaca\n",
            "['conejo', 'gato', 'oso', 'perro', 'sapo', 'vaca']\n"
          ]
        }
      ]
    },
    {
      "cell_type": "markdown",
      "source": [
        "##AVANZADO\n",
        "2. Reciba una lista y retorne dos listas: una con los elementos impares y otra con los elementos\n",
        "pares"
      ],
      "metadata": {
        "id": "ZBDbnyXoWPd8"
      }
    },
    {
      "cell_type": "code",
      "source": [
        "x=int(input(\"¿Cuantos elementos desea ingresar? \"))\n",
        "a=0\n",
        "lista=[]\n",
        "while a < x:\n",
        "  a=a+1\n",
        "  elem=str(input(\"Escriba el elemento: \"))\n",
        "  lista.append(elem)\n",
        "print(\"Los elementos que ingresaste son:\",lista)\n",
        "def pares (lista):\n",
        "  return lista[0:x:2]\n",
        "def impar (lista):\n",
        "  return lista[1:x:2]\n",
        "print(\"Los elementos en la posición par son:\",pares(lista))\n",
        "print(\"Los elementos en la posición impar son: \",impar(lista))\n",
        "\n"
      ],
      "metadata": {
        "colab": {
          "base_uri": "https://localhost:8080/"
        },
        "id": "cg9IO9THaOXT",
        "outputId": "bea1304e-f454-4c11-f6c7-7a4f41bceea0"
      },
      "execution_count": null,
      "outputs": [
        {
          "output_type": "stream",
          "name": "stdout",
          "text": [
            "¿Cuantos elementos desea ingresar? 7\n",
            "Escriba el elemento: Laura\n",
            "Escriba el elemento: Marcos\n",
            "Escriba el elemento: Thomas\n",
            "Escriba el elemento: Sara\n",
            "Escriba el elemento: Carlos\n",
            "Escriba el elemento: Karen\n",
            "Escriba el elemento: Juan\n",
            "Los elementos que ingresaste son: ['Laura', 'Marcos', 'Thomas', 'Sara', 'Carlos', 'Karen', 'Juan']\n",
            "Los elementos en la posición par son: ['Laura', 'Thomas', 'Carlos', 'Juan']\n",
            "Los elementos en la posición impar son:  ['Marcos', 'Sara', 'Karen']\n"
          ]
        }
      ]
    }
  ]
}