{
  "nbformat": 4,
  "nbformat_minor": 0,
  "metadata": {
    "colab": {
      "provenance": []
    },
    "kernelspec": {
      "name": "python3",
      "display_name": "Python 3"
    },
    "language_info": {
      "name": "python"
    }
  },
  "cells": [
    {
      "cell_type": "code",
      "execution_count": 32,
      "metadata": {
        "colab": {
          "base_uri": "https://localhost:8080/"
        },
        "id": "DEiugbH8Mvgc",
        "outputId": "6b6804b9-4531-43c5-d28d-4577ec6e6fbc"
      },
      "outputs": [
        {
          "output_type": "stream",
          "name": "stdout",
          "text": [
            "('Electrodomesticos', {'Lavadora': 300, 'Licuadora': 90, 'Cafetera': 20})\n",
            "\n",
            "('Frutas', {'Manzana': 2, 'Pera': 3, 'Piña': 5})\n",
            "\n",
            "('Ropa', {'Camisa': 20, 'Jean': 35, 'Zapatos': 270})\n",
            "\n",
            "Nombre:  Camisa\n",
            "Categoria:  Ropa\n",
            "Cantidad: 10\n",
            "------Recibo------\n",
            "['producto= Camisa categoria =  Ropa cantidad= 10']\n",
            "El valor a pagar es: 210.0 Dolares\n"
          ]
        }
      ],
      "source": [
        "menu={\"Electrodomesticos\":{\"Lavadora\":300,\n",
        "                           \"Licuadora\":90,\n",
        "                           \"Cafetera\":20},\n",
        "      \"Frutas\":{\"Manzana\":2,\n",
        "                \"Pera\":3,\n",
        "                \"Piña\":5},\n",
        "      \"Ropa\":{\"Camisa\":20,\n",
        "              \"Jean\":35,\n",
        "              \"Zapatos\":270}}\n",
        "\n",
        "pedido = []\n",
        "\n",
        "for i in menu.items():\n",
        "  print(i)\n",
        "  print()\n",
        "\n",
        "class Productos():\n",
        "  def __init__(self,nombre,categoria,cant):\n",
        "    self.nombre=nombre\n",
        "    self.categoria=categoria\n",
        "    self.cant=cant\n",
        "    \n",
        "  def agregar(self):\n",
        "    pedido.append(f\"producto= {self.nombre} categoria =  {self.categoria} cantidad= {self.cant}\")\n",
        "    print(f\"------Recibo------\\n{pedido}\")\n",
        "\n",
        "  def recibo(self):\n",
        "    a = menu.get(categoria)\n",
        "    b = a.get(nombre_producto)\n",
        "    precio= b*cantidad\n",
        "    if precio >= 200:\n",
        "      iva = precio * 0.05\n",
        "      precio = precio + iva\n",
        "    print(f\"El valor a pagar es: {precio} Dolares\")\n",
        "    \n",
        "\n",
        "nombre_producto= input(\"Nombre:  \")\n",
        "categoria=input(\"Categoria:  \")\n",
        "cantidad= int(input(\"Cantidad: \"))\n",
        "\n",
        "\n",
        "producto1=Productos(nombre_producto,categoria,cantidad)\n",
        "producto1.agregar()\n",
        "producto1.recibo()\n"
      ]
    }
  ]
}