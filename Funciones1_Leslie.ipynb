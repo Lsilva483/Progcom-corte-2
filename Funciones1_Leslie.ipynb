{
  "nbformat": 4,
  "nbformat_minor": 0,
  "metadata": {
    "colab": {
      "provenance": []
    },
    "kernelspec": {
      "name": "python3",
      "display_name": "Python 3"
    },
    "language_info": {
      "name": "python"
    }
  },
  "cells": [
    {
      "cell_type": "code",
      "execution_count": 11,
      "metadata": {
        "colab": {
          "base_uri": "https://localhost:8080/"
        },
        "id": "oF6gSs1JAyU-",
        "outputId": "be31742f-21b8-4d36-f9c9-338d274954ca"
      },
      "outputs": [
        {
          "output_type": "stream",
          "name": "stdout",
          "text": [
            "Digita algo s\n",
            "s es una consonante\n"
          ]
        }
      ],
      "source": [
        "x=input(\"Digita algo \")\n",
        "def saber (condición):\n",
        "  if condición in (\"A\",\"E\",\"I\",\"O\",\"U\",\"a\",\"e\",\"i\",\"o\",\"u\"):\n",
        "    print(x,\"es una vocal\")\n",
        "  else:\n",
        "    print(x,\"es una consonante\")\n",
        "saber(x)\n",
        "\n",
        "\n",
        "\n"
      ]
    },
    {
      "cell_type": "code",
      "source": [
        "def numbers():\n",
        "  \n"
      ],
      "metadata": {
        "id": "GXYVYXaJIi1B"
      },
      "execution_count": null,
      "outputs": []
    }
  ]
}