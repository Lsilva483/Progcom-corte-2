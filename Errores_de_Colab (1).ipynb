{
  "nbformat": 4,
  "nbformat_minor": 0,
  "metadata": {
    "colab": {
      "provenance": []
    },
    "kernelspec": {
      "name": "python3",
      "display_name": "Python 3"
    },
    "language_info": {
      "name": "python"
    }
  },
  "cells": [
    {
      "cell_type": "markdown",
      "source": [
        "\n",
        "\n",
        "1. Colab no permite ejecutar algún código si no esta conectado a internet.\n",
        "2. Algunas veces sin motivo alguno no ejecuta entornos de programación\n",
        "3. Colab limita la funcionalidad de subir y descargar archivos locales del pc y de google drive \n",
        "4.  La máquina de google colab en un inicio solo cuenta con 12 GB de RAM y solo 50 GB de almancenamiento en disco disponibles para el uso.\n",
        "5. El tiempo máximo que podemos estar conectados a una misma máquina desde un cuaderno es de 12 horas.\n",
        "6. Número máximo de operaciones por usuario y por archivo, y cuotas de ancho de banda.\n",
        "7.  No dentifica algún tipo de librería importada.\n",
        "8. Es indispensable tener una GPU de google para programar.\n",
        "9. Colab genera error cuando estamos realizando una ejecución muy prolongada y muy potente, el entorno se desconecte.\n",
        "10. Colab tiene un número máximo de operaciones por usuario y por archivo, y cuotas de ancho de banda.\n",
        "11. Google colab genera errores cuando el contenido es compartido ya que puede ser modificado al mismo tiempo por lo que alguno podría alterar el programa sin ser registrado.\n",
        "12. Colab genera errores cuando el código que se tiene es muy pesado por lo que genera incovenientes a la hora de llamar las variables o funciones.\n",
        "13. No identifica algunas librerias importadas.\n",
        "14. Permite usar varias cuentas para eludir las restricciones de acceso o de uso de recursos.\n",
        "15. Si el usuario no interactúa con su computadora portátil Google Colab durante más de 90 minutos, su instancia se cancela automáticamente.\n",
        "16. Colab no muestra el historial de cambios en los códigos que se ejecutan.\n",
        "17. No permite graficar sin libreria.\n",
        "18. Genera errores al conectarse a proxies remoto.\n",
        "19. Se puede perder facilmente la información o partes del código.\n",
        "20. No se puede ejecutar el código en varias pestañas de google.\n"
      ],
      "metadata": {
        "id": "ywQNmpHOuDwL"
      }
    }
  ]
}