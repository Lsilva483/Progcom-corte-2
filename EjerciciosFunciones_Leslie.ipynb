{
  "nbformat": 4,
  "nbformat_minor": 0,
  "metadata": {
    "colab": {
      "provenance": []
    },
    "kernelspec": {
      "name": "python3",
      "display_name": "Python 3"
    },
    "language_info": {
      "name": "python"
    }
  },
  "cells": [
    {
      "cell_type": "code",
      "source": [
        "def npc (a,b):\n",
        "  if a>b:\n",
        "    return a\n",
        "  return b"
      ],
      "metadata": {
        "id": "YC68NrVcoKm9"
      },
      "execution_count": 1,
      "outputs": []
    },
    {
      "cell_type": "code",
      "source": [
        "def npc (a,b):\n",
        "  if a>b:\n",
        "    print(f\" {a} es el mayor\")\n",
        "  else:\n",
        "    print(b,\" es el menor\")"
      ],
      "metadata": {
        "id": "ozd5SJbPosEE"
      },
      "execution_count": 7,
      "outputs": []
    },
    {
      "cell_type": "code",
      "source": [
        "print(npc(4,5))\n"
      ],
      "metadata": {
        "colab": {
          "base_uri": "https://localhost:8080/"
        },
        "id": "ceQdZ6VFolDF",
        "outputId": "dd752aaa-efc9-43f7-ee51-0113a7a05d27"
      },
      "execution_count": 8,
      "outputs": [
        {
          "output_type": "stream",
          "name": "stdout",
          "text": [
            "5  es el mayor\n",
            "None\n"
          ]
        }
      ]
    },
    {
      "cell_type": "code",
      "execution_count": null,
      "metadata": {
        "id": "FHIVl_w5n2Rg"
      },
      "outputs": [],
      "source": [
        "def mayor (x,y,z):\n",
        "  npc(x)"
      ]
    },
    {
      "cell_type": "markdown",
      "source": [
        "\n",
        "**EJERCICIOS**"
      ],
      "metadata": {
        "id": "irKbRsBvqAh1"
      }
    },
    {
      "cell_type": "markdown",
      "source": [
        "1."
      ],
      "metadata": {
        "id": "BPJ7XkH_qFnU"
      }
    },
    {
      "cell_type": "code",
      "source": [
        "a=180\n",
        "b=73\n",
        "def npc (a,b):\n",
        "  if a>b:\n",
        "    return a\n",
        "  return b\n",
        "print(npc(a,b))"
      ],
      "metadata": {
        "colab": {
          "base_uri": "https://localhost:8080/"
        },
        "id": "4wDgymaitTTO",
        "outputId": "65690e1c-8e11-4fb7-db0b-341b88768601"
      },
      "execution_count": 23,
      "outputs": [
        {
          "output_type": "stream",
          "name": "stdout",
          "text": [
            "180\n"
          ]
        }
      ]
    },
    {
      "cell_type": "markdown",
      "source": [
        "2."
      ],
      "metadata": {
        "id": "_fjpH_5Zr-Fz"
      }
    },
    {
      "cell_type": "code",
      "source": [
        "a=28\n",
        "b=60\n",
        "c=14\n",
        "def mayor (a,b,c):\n",
        "  if a>b and a>c:\n",
        "    return a\n",
        "  elif b>c:\n",
        "    return b\n",
        "  return c\n",
        "print(mayor(a,b,c))\n"
      ],
      "metadata": {
        "colab": {
          "base_uri": "https://localhost:8080/"
        },
        "id": "Og1ynNCvr-4K",
        "outputId": "bce494f2-feef-4001-e3cb-7219c65c96f6"
      },
      "execution_count": 21,
      "outputs": [
        {
          "output_type": "stream",
          "name": "stdout",
          "text": [
            "60\n"
          ]
        }
      ]
    },
    {
      "cell_type": "markdown",
      "source": [
        "3.Sumar los números de una lista de 3 elementos"
      ],
      "metadata": {
        "id": "nwl0HSeOtjf2"
      }
    },
    {
      "cell_type": "code",
      "source": [
        "lista=[20,15,5]\n",
        "def suma (lista):\n",
        "  sumar=0\n",
        "  for i in lista:\n",
        "    sumar=sumar + i\n",
        "  return sumar\n",
        "print(suma(lista))"
      ],
      "metadata": {
        "colab": {
          "base_uri": "https://localhost:8080/"
        },
        "id": "F6o2VRowtlGO",
        "outputId": "0e224bb1-d5f3-4d52-a3bf-dd67d59e79ec"
      },
      "execution_count": 24,
      "outputs": [
        {
          "output_type": "stream",
          "name": "stdout",
          "text": [
            "40\n"
          ]
        }
      ]
    },
    {
      "cell_type": "markdown",
      "source": [
        "4."
      ],
      "metadata": {
        "id": "8IvuNs1uvdn2"
      }
    },
    {
      "cell_type": "code",
      "source": [
        "lista=[20,15,5,35]\n",
        "def suma (lista):\n",
        "  sumar=0\n",
        "  for i in lista:\n",
        "    sumar=sumar + i\n",
        "  return sumar\n",
        "print(suma(lista))"
      ],
      "metadata": {
        "colab": {
          "base_uri": "https://localhost:8080/"
        },
        "id": "aE744WmAverO",
        "outputId": "4a363cb9-fcbc-4fe9-96f9-6e53bc3c3cd4"
      },
      "execution_count": 25,
      "outputs": [
        {
          "output_type": "stream",
          "name": "stdout",
          "text": [
            "75\n"
          ]
        }
      ]
    },
    {
      "cell_type": "markdown",
      "source": [
        "5."
      ],
      "metadata": {
        "id": "hGeq1ohqvnxv"
      }
    },
    {
      "cell_type": "code",
      "source": [
        "lista=[20,15,5,35,25]\n",
        "def suma (lista):\n",
        "  sumar=0\n",
        "  for i in lista:\n",
        "    sumar=sumar + i\n",
        "  return sumar \n",
        "print(suma(lista))"
      ],
      "metadata": {
        "colab": {
          "base_uri": "https://localhost:8080/"
        },
        "id": "bXlkGpV3vovO",
        "outputId": "1a2dc38a-8c31-4e50-c90d-215488da1cff"
      },
      "execution_count": 29,
      "outputs": [
        {
          "output_type": "stream",
          "name": "stdout",
          "text": [
            "100\n"
          ]
        }
      ]
    },
    {
      "cell_type": "markdown",
      "source": [
        "6.Multiplicar los números de una lista de 3 elementos."
      ],
      "metadata": {
        "id": "t7kYqA9Pxm_t"
      }
    },
    {
      "cell_type": "code",
      "source": [
        "lista=[2,8,10]\n",
        "def multi (lista):\n",
        "  base=1\n",
        "  for i in lista:\n",
        "    base=base * i\n",
        "  return base\n",
        "print(multi(lista))"
      ],
      "metadata": {
        "colab": {
          "base_uri": "https://localhost:8080/"
        },
        "id": "NpLRG7qyxnqt",
        "outputId": "cac80cf1-cdbd-46bf-8f52-cbe377870f4c"
      },
      "execution_count": 33,
      "outputs": [
        {
          "output_type": "stream",
          "name": "stdout",
          "text": [
            "160\n"
          ]
        }
      ]
    },
    {
      "cell_type": "markdown",
      "source": [
        "7.Multiplicar los números de una lista de 4 elementos"
      ],
      "metadata": {
        "id": "TPHVa6JtzIXM"
      }
    },
    {
      "cell_type": "code",
      "source": [
        "lista=[2,8,1,2]\n",
        "def multi (lista):\n",
        "  base=1\n",
        "  for i in lista:\n",
        "    base=base * i\n",
        "  return base\n",
        "print(multi(lista))"
      ],
      "metadata": {
        "colab": {
          "base_uri": "https://localhost:8080/"
        },
        "id": "0Wf68CQjzH5N",
        "outputId": "92cdad5c-4c84-4444-bfb0-f1a94ac39931"
      },
      "execution_count": 36,
      "outputs": [
        {
          "output_type": "stream",
          "name": "stdout",
          "text": [
            "32\n"
          ]
        }
      ]
    },
    {
      "cell_type": "markdown",
      "source": [
        "8.Multiplicar todos los números de una lista"
      ],
      "metadata": {
        "id": "qIeOIJlDzVYE"
      }
    },
    {
      "cell_type": "code",
      "source": [
        "lista=[2,8,1,2,5,8,10]\n",
        "def multi (lista):\n",
        "  base=1\n",
        "  for i in lista:\n",
        "    base=base * i\n",
        "  return base\n",
        "print(multi(lista))"
      ],
      "metadata": {
        "colab": {
          "base_uri": "https://localhost:8080/"
        },
        "id": "W-Q-sX6mzWaN",
        "outputId": "8010c636-009e-4a7d-fe8e-7a43083a0dd3"
      },
      "execution_count": 37,
      "outputs": [
        {
          "output_type": "stream",
          "name": "stdout",
          "text": [
            "12800\n"
          ]
        }
      ]
    },
    {
      "cell_type": "markdown",
      "source": [
        "9.Invierta un String. Ejemplo: ingresa Hola y retorna aloH"
      ],
      "metadata": {
        "id": "bTHnGpQQzqHL"
      }
    },
    {
      "cell_type": "code",
      "source": [
        "word=\"karina\"\n",
        "def invertir (word):\n",
        "  palabra=\" \"\n",
        "  position=len(word)\n",
        "  while position > 0:\n",
        "    palabra=palabra + word[position - 1]\n",
        "    position=position - 1\n",
        "  return palabra\n",
        "\n",
        "print(invertir(word))"
      ],
      "metadata": {
        "colab": {
          "base_uri": "https://localhost:8080/"
        },
        "id": "pLsFu8WVzq8D",
        "outputId": "e4c70aba-2d8a-4494-d771-ee2147f06bb3"
      },
      "execution_count": 40,
      "outputs": [
        {
          "output_type": "stream",
          "name": "stdout",
          "text": [
            " anirak\n"
          ]
        }
      ]
    },
    {
      "cell_type": "markdown",
      "source": [
        "10.Calcular el factorial de un número"
      ],
      "metadata": {
        "id": "eDenOY5a3e_5"
      }
    },
    {
      "cell_type": "code",
      "source": [
        "x=int(input(\"Digita un número \"))\n",
        "def calcular (x):\n",
        "  for i in range (1,x):\n",
        "    x=x*i\n",
        "  return x\n",
        "print(calcular(x))\n",
        "\n"
      ],
      "metadata": {
        "colab": {
          "base_uri": "https://localhost:8080/"
        },
        "id": "1uy7JW5W3fzy",
        "outputId": "3a92b6a5-e5cf-413c-94ff-3fc37dc93ade"
      },
      "execution_count": 44,
      "outputs": [
        {
          "output_type": "stream",
          "name": "stdout",
          "text": [
            "Digita un número 0\n",
            "0\n"
          ]
        }
      ]
    },
    {
      "cell_type": "markdown",
      "source": [
        "11.Si un número está dentro de un rango.ejemplo 5 (1,4), el cinco esta afuera del rango"
      ],
      "metadata": {
        "id": "asALJW0R4-Ra"
      }
    },
    {
      "cell_type": "code",
      "source": [
        "x=int(input(\"Digita un número \"))\n",
        "rango=[1,10]\n",
        "def num (rango,x):\n",
        "  return x in range(*rango)\n",
        "print(num(rango,x))"
      ],
      "metadata": {
        "colab": {
          "base_uri": "https://localhost:8080/"
        },
        "id": "p6698Y6g4_EC",
        "outputId": "3c712c02-b0cc-4676-c6ea-91293f1982cf"
      },
      "execution_count": 52,
      "outputs": [
        {
          "output_type": "stream",
          "name": "stdout",
          "text": [
            "Digita un número 12\n",
            "False\n"
          ]
        }
      ]
    },
    {
      "cell_type": "markdown",
      "source": [
        "12.Capture el número de mayúsculas y minúsculas en una oración."
      ],
      "metadata": {
        "id": "X8ZyA05O9xMu"
      }
    },
    {
      "cell_type": "code",
      "source": [
        "frase=\"Programar Es mi PASIÓN\"\n",
        "def cuenta (frase):\n",
        "  cantidad={\"mayus\":0,\"minus\":0}\n",
        "  for i in frase:\n",
        "    \n",
        "\n"
      ],
      "metadata": {
        "id": "6v7FNRr09x1W"
      },
      "execution_count": null,
      "outputs": []
    },
    {
      "cell_type": "markdown",
      "source": [
        "14.Reciba una lista y retorne sólo los elementos pares"
      ],
      "metadata": {
        "id": "vDLj2WrC60TH"
      }
    },
    {
      "cell_type": "code",
      "source": [
        "lista=[]\n",
        "def pares ():\n",
        "  "
      ],
      "metadata": {
        "id": "xGz58YdA61N_"
      },
      "execution_count": null,
      "outputs": []
    }
  ]
}